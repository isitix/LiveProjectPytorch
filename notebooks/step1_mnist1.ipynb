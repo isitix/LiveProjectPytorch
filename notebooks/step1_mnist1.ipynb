{
 "cells": [
  {
   "cell_type": "code",
   "execution_count": 69,
   "metadata": {
    "collapsed": true
   },
   "outputs": [],
   "source": [
    "from torchvision import datasets\n",
    "from torchvision import transforms\n",
    "import matplotlib.pyplot as plt\n",
    "import torch"
   ]
  },
  {
   "cell_type": "markdown",
   "source": [
    "## Loading the dataset"
   ],
   "metadata": {
    "collapsed": false,
    "pycharm": {
     "name": "#%% md\n"
    }
   }
  },
  {
   "cell_type": "code",
   "execution_count": 70,
   "outputs": [],
   "source": [
    "data_path = '../data/'\n",
    "mnist = datasets.MNIST(data_path, download=True)\n",
    "to_tensor = transforms.ToTensor()"
   ],
   "metadata": {
    "collapsed": false,
    "pycharm": {
     "name": "#%%\n"
    }
   }
  },
  {
   "cell_type": "markdown",
   "source": [
    "## Viewing the content of a sample"
   ],
   "metadata": {
    "collapsed": false,
    "pycharm": {
     "name": "#%% md\n"
    }
   }
  },
  {
   "cell_type": "code",
   "execution_count": 71,
   "outputs": [
    {
     "name": "stdout",
     "output_type": "stream",
     "text": [
      "3 - three\n",
      "torch.Size([1, 28, 28])\n"
     ]
    },
    {
     "data": {
      "text/plain": "<Figure size 432x288 with 1 Axes>",
      "image/png": "[encoded data removed]"
     },
     "metadata": {},
     "output_type": "display_data"
    }
   ],
   "source": [
    "img, label = mnist[12345]\n",
    "plt.imshow(img)\n",
    "print(mnist.classes[label])\n",
    "img_t = to_tensor(img)\n",
    "print(img_t.shape)"
   ],
   "metadata": {
    "collapsed": false,
    "pycharm": {
     "name": "#%%\n"
    }
   }
  },
  {
   "cell_type": "markdown",
   "source": [
    "## Computing mean and standard deviation to normalize the dataset"
   ],
   "metadata": {
    "collapsed": false,
    "pycharm": {
     "name": "#%% md\n"
    }
   }
  },
  {
   "cell_type": "code",
   "execution_count": 72,
   "outputs": [
    {
     "data": {
      "text/plain": "torch.Size([1, 28, 28, 60000])"
     },
     "execution_count": 72,
     "metadata": {},
     "output_type": "execute_result"
    }
   ],
   "source": [
    "imgs = torch.stack([to_tensor(img_t) for img_t, _ in mnist], dim=3)#%%\n",
    "imgs.shape"
   ],
   "metadata": {
    "collapsed": false,
    "pycharm": {
     "name": "#%%\n"
    }
   }
  },
  {
   "cell_type": "code",
   "execution_count": 73,
   "outputs": [
    {
     "data": {
      "text/plain": "(0.13066332042217255, 0.30810782313346863)"
     },
     "execution_count": 73,
     "metadata": {},
     "output_type": "execute_result"
    }
   ],
   "source": [
    "m = imgs.view(1,-1).mean(dim=1).item()\n",
    "s  = imgs.view(1,-1).std(dim=1).item()\n",
    "m, s"
   ],
   "metadata": {
    "collapsed": false,
    "pycharm": {
     "name": "#%%\n"
    }
   }
  },
  {
   "cell_type": "markdown",
   "source": [
    "## Specifying the model\n",
    "\n",
    "Inspired from many examples published on github (I can't get back to the one I choose...)"
   ],
   "metadata": {
    "collapsed": false,
    "pycharm": {
     "name": "#%% md\n"
    }
   }
  },
  {
   "cell_type": "code",
   "execution_count": 74,
   "outputs": [],
   "source": [
    "from torch import nn\n",
    "import torch.nn.functional as F\n",
    "from torch import optim\n",
    "\n",
    "class Net(nn.Module):\n",
    "    # init the layers of the model\n",
    "    def __init__(self):\n",
    "        super(Net, self).__init__()\n",
    "        self.conv1 = nn.Conv2d(1, 32, 3, 1)\n",
    "        self.conv2 = nn.Conv2d(32, 64, 3, 1)\n",
    "        self.dropout1 = nn.Dropout2d(0.25)\n",
    "        self.dropout2 = nn.Dropout2d(0.5)\n",
    "        self.fc1 = nn.Linear(9216, 128)\n",
    "        self.fc2 = nn.Linear(128, 10)\n",
    "    # glue the layers together with forward...\n",
    "    def forward(self, x):\n",
    "        x = self.conv1(x)\n",
    "        x = F.relu(x)\n",
    "        x = self.conv2(x)\n",
    "        x = F.relu(x)\n",
    "        x = F.max_pool2d(x, 2)\n",
    "        x = self.dropout1(x)\n",
    "        x = torch.flatten(x, 1)\n",
    "        x = self.fc1(x)\n",
    "        x = F.relu(x)\n",
    "        x = self.dropout2(x)\n",
    "        x = self.fc2(x)\n",
    "        output = F.log_softmax(x, dim=1)\n",
    "        return output\n",
    "\n",
    "# model (and auxiliary functions) instantiation\n",
    "model = Net()\n",
    "optimizer = optim.SGD(model.parameters(), lr=1e-2)\n",
    "loss_fn = nn.CrossEntropyLoss()"
   ],
   "metadata": {
    "collapsed": false,
    "pycharm": {
     "name": "#%%\n"
    }
   }
  },
  {
   "cell_type": "markdown",
   "source": [
    "## Implementing the train and test routines"
   ],
   "metadata": {
    "collapsed": false,
    "pycharm": {
     "name": "#%% md\n"
    }
   }
  },
  {
   "cell_type": "code",
   "execution_count": 75,
   "outputs": [],
   "source": [
    "import torch.utils.data as torchdata\n",
    "from torch import cuda\n",
    "\n",
    "def train_model(model, optimizer,\n",
    "                  loss_fn, train_data, device, n_epochs=10, batch_size=64):\n",
    "\n",
    "    model.to(device)\n",
    "    loss_fn.to(device)\n",
    "    train_loader = torchdata.DataLoader(train_data,\n",
    "                               batch_size=batch_size,\n",
    "                               shuffle=True,\n",
    "                               pin_memory=(device.type == 'cuda'))\n",
    "\n",
    "    train_items_count = len(train_loader) # number of batches in the train dataset\n",
    "\n",
    "    for epoch in range(1, n_epochs + 1):\n",
    "        loss_train = 0.0\n",
    "        # process a batch of batch_size images at each iteration\n",
    "        for imgs, labels in train_loader:\n",
    "            imgs, labels = imgs.to(device = device), labels.to(device = device)\n",
    "            outputs = model(imgs)\n",
    "            loss = loss_fn(outputs, labels)\n",
    "            optimizer.zero_grad()\n",
    "            loss.backward()\n",
    "            optimizer.step()\n",
    "            loss_train += loss.item()\n",
    "        avg_loss = loss_train / train_items_count\n",
    "        yield {'epoch': epoch, 'avg_train_loss':avg_loss}\n",
    "\n",
    "def test_model(model, device, validation_data, batch_size=256):\n",
    "    loss = 0\n",
    "    correct = 0\n",
    "    validation_loader = torchdata.DataLoader(validation_data,\n",
    "                                    batch_size=batch_size,\n",
    "                                    shuffle=True,\n",
    "                                    pin_memory=(device.type == 'cuda'))\n",
    "    n_items = len(validation_loader.dataset)\n",
    "    model.eval()\n",
    "    with torch.no_grad():\n",
    "        for data, target in validation_loader:\n",
    "            data, target = data.to(device), target.to(device)\n",
    "            output = model(data)\n",
    "            loss += F.nll_loss(output, target, reduction='sum').item()  # sum up batch loss\n",
    "            pred = output.argmax(dim=1, keepdim=True)  # get the index of the max log-probability\n",
    "            correct += pred.eq(target.view_as(pred)).sum().item()\n",
    "\n",
    "    avg_loss = loss / n_items\n",
    "    return {'avg_test_loss': avg_loss, 'test_correct_items': correct, 'test_items': n_items}"
   ],
   "metadata": {
    "collapsed": false,
    "pycharm": {
     "name": "#%%\n"
    }
   }
  },
  {
   "cell_type": "markdown",
   "source": [
    "## Configuring the data loaders"
   ],
   "metadata": {
    "collapsed": false,
    "pycharm": {
     "name": "#%% md\n"
    }
   }
  },
  {
   "cell_type": "code",
   "execution_count": 76,
   "outputs": [],
   "source": [
    "mnist_train = datasets.MNIST(data_path, train=True, download=True,\n",
    "                             transform=transforms.Compose(\n",
    "                                 [transforms.ToTensor(),\n",
    "                                  transforms.Normalize(m,s)]))\n",
    "\n",
    "mnist_validate = datasets.MNIST(data_path, train=False, download=True,\n",
    "                             transform=transforms.Compose(\n",
    "                                 [transforms.ToTensor(),\n",
    "                                  transforms.Normalize(m,s)]))"
   ],
   "metadata": {
    "collapsed": false,
    "pycharm": {
     "name": "#%%\n"
    }
   }
  },
  {
   "cell_type": "markdown",
   "source": [
    "## Training the model"
   ],
   "metadata": {
    "collapsed": false,
    "pycharm": {
     "name": "#%% md\n"
    }
   }
  },
  {
   "cell_type": "code",
   "execution_count": 77,
   "outputs": [
    {
     "name": "stdout",
     "output_type": "stream",
     "text": [
      "{'epoch': 1, 'avg_train_loss': 0.5242107015953008, 'avg_test_loss': 0.21380535331964493, 'test_correct_items': 9326, 'test_items': 10000}\n",
      "{'epoch': 2, 'avg_train_loss': 0.15535886513629257, 'avg_test_loss': 0.1258148792386055, 'test_correct_items': 9598, 'test_items': 10000}\n",
      "{'epoch': 3, 'avg_train_loss': 0.11021460323775215, 'avg_test_loss': 0.0924978307723999, 'test_correct_items': 9695, 'test_items': 10000}\n",
      "{'epoch': 4, 'avg_train_loss': 0.08827354437582242, 'avg_test_loss': 0.08267595210075378, 'test_correct_items': 9720, 'test_items': 10000}\n",
      "{'epoch': 5, 'avg_train_loss': 0.0729367496475065, 'avg_test_loss': 0.07297176021933556, 'test_correct_items': 9773, 'test_items': 10000}\n",
      "{'epoch': 6, 'avg_train_loss': 0.06266585891785374, 'avg_test_loss': 0.06292492256760597, 'test_correct_items': 9792, 'test_items': 10000}\n",
      "{'epoch': 7, 'avg_train_loss': 0.053478776038672, 'avg_test_loss': 0.06949159333705902, 'test_correct_items': 9773, 'test_items': 10000}\n",
      "{'epoch': 8, 'avg_train_loss': 0.04575392286673482, 'avg_test_loss': 0.05751728408336639, 'test_correct_items': 9805, 'test_items': 10000}\n",
      "{'epoch': 9, 'avg_train_loss': 0.04099640985260775, 'avg_test_loss': 0.054381327390670774, 'test_correct_items': 9829, 'test_items': 10000}\n",
      "{'epoch': 10, 'avg_train_loss': 0.03528889588294809, 'avg_test_loss': 0.054148789104819295, 'test_correct_items': 9820, 'test_items': 10000}\n",
      "{'epoch': 11, 'avg_train_loss': 0.03147755324657359, 'avg_test_loss': 0.050208140411973, 'test_correct_items': 9836, 'test_items': 10000}\n",
      "{'epoch': 12, 'avg_train_loss': 0.02777365140970856, 'avg_test_loss': 0.05106053638756275, 'test_correct_items': 9837, 'test_items': 10000}\n",
      "{'epoch': 13, 'avg_train_loss': 0.024319939498505645, 'avg_test_loss': 0.04929862861298025, 'test_correct_items': 9852, 'test_items': 10000}\n",
      "{'epoch': 14, 'avg_train_loss': 0.022141714989858518, 'avg_test_loss': 0.047552749510109425, 'test_correct_items': 9848, 'test_items': 10000}\n",
      "{'epoch': 15, 'avg_train_loss': 0.019476087491980185, 'avg_test_loss': 0.04523934479057789, 'test_correct_items': 9859, 'test_items': 10000}\n",
      "{'epoch': 16, 'avg_train_loss': 0.016836624230916697, 'avg_test_loss': 0.04642350038290024, 'test_correct_items': 9850, 'test_items': 10000}\n",
      "{'epoch': 17, 'avg_train_loss': 0.015404680573487846, 'avg_test_loss': 0.04726805779933929, 'test_correct_items': 9843, 'test_items': 10000}\n",
      "{'epoch': 18, 'avg_train_loss': 0.013593453387358734, 'avg_test_loss': 0.04977374442219734, 'test_correct_items': 9846, 'test_items': 10000}\n",
      "{'epoch': 19, 'avg_train_loss': 0.012156662876719732, 'avg_test_loss': 0.053149337977170946, 'test_correct_items': 9841, 'test_items': 10000}\n",
      "{'epoch': 20, 'avg_train_loss': 0.010630478749306985, 'avg_test_loss': 0.042881362157128754, 'test_correct_items': 9858, 'test_items': 10000}\n"
     ]
    }
   ],
   "source": [
    "device = torch.device('cuda' if cuda.is_available() else 'cpu')\n",
    "train_loop = train_model(model, optimizer, loss_fn, mnist_train, device, n_epochs=20)\n",
    "perf_history = []\n",
    "for train_data in train_loop:\n",
    "    test_data = test_model(model, device, mnist_validate)\n",
    "    perf_data = {**train_data, **test_data}\n",
    "    print(perf_data)\n",
    "    perf_history.append(perf_data)"
   ],
   "metadata": {
    "collapsed": false,
    "pycharm": {
     "name": "#%%\n"
    }
   }
  },
  {
   "cell_type": "markdown",
   "source": [
    "## Analysing results\n",
    "\n",
    "You may plug your model into Tensorboard as well..."
   ],
   "metadata": {
    "collapsed": false,
    "pycharm": {
     "name": "#%% md\n"
    }
   }
  },
  {
   "cell_type": "code",
   "execution_count": 78,
   "outputs": [
    {
     "data": {
      "text/plain": "array([<AxesSubplot:xlabel='epoch'>, <AxesSubplot:xlabel='epoch'>,\n       <AxesSubplot:xlabel='epoch'>], dtype=object)"
     },
     "execution_count": 78,
     "metadata": {},
     "output_type": "execute_result"
    },
    {
     "data": {
      "text/plain": "<Figure size 432x288 with 3 Axes>",
      "image/png": "[encoded data removed]"
     },
     "metadata": {},
     "output_type": "display_data"
    }
   ],
   "source": [
    "import pandas as pd\n",
    "perf_report = pd.DataFrame(perf_history)\n",
    "perf_report['accuracy'] = perf_report.test_correct_items / perf_report.test_items\n",
    "plt.style.use('Solarize_Light2')\n",
    "perf_report[['epoch','avg_train_loss', 'avg_test_loss', 'accuracy']].plot(\n",
    "    x='epoch', subplots=True)\n"
   ],
   "metadata": {
    "collapsed": false,
    "pycharm": {
     "name": "#%%\n"
    }
   }
  }
 ],
 "metadata": {
  "kernelspec": {
   "display_name": "Python 3",
   "language": "python",
   "name": "python3"
  },
  "language_info": {
   "codemirror_mode": {
    "name": "ipython",
    "version": 2
   },
   "file_extension": ".py",
   "mimetype": "text/x-python",
   "name": "python",
   "nbconvert_exporter": "python",
   "pygments_lexer": "ipython2",
   "version": "2.7.6"
  }
 },
 "nbformat": 4,
 "nbformat_minor": 0
}